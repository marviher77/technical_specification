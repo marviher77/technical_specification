{
 "cells": [
  {
   "cell_type": "markdown",
   "id": "df3c4b9e",
   "metadata": {},
   "source": [
    "# Задания:\n",
    "\n",
    "### 1. На листе A приведены данные о продажах, ответьте на вопросы по этим данным:\n",
    "\n",
    "На листе A приведены данные о продажах, ответьте на вопросы по этим данным:\n",
    "\n",
    "а. Минимальная по сумме продажа (номер строки)?\n",
    "\n",
    "б. Товары какой категории самые продаваемые (в штуках)?\n",
    "\n",
    "в. Какого товара по сумме было продано меньше всего?\n",
    "\n",
    "г. Товары какой категории в среднем самые дешёвые?"
   ]
  },
  {
   "cell_type": "markdown",
   "id": "5dcb9744",
   "metadata": {},
   "source": [
    "### 2. На листе B в столбцах A и B приведены наименования товара и цены к ним, так же в столбце C приведены наименования товаров, но цены не указаны. Расставьте цены в стобце D в соответствии с тем, что указано в столбцах A и B"
   ]
  },
  {
   "cell_type": "markdown",
   "id": "bb8af213",
   "metadata": {},
   "source": [
    "# Выполнение"
   ]
  },
  {
   "cell_type": "markdown",
   "id": "19ec5446",
   "metadata": {},
   "source": [
    "#### Начнём выполнение первого задания по очереди. Но перед этим, нужно загрузим данные:"
   ]
  },
  {
   "cell_type": "code",
   "execution_count": 4,
   "id": "002fc936",
   "metadata": {},
   "outputs": [],
   "source": [
    "# импортируем библиотеку для загрузки excel таблицы\n",
    "import pandas as pd"
   ]
  },
  {
   "cell_type": "code",
   "execution_count": 18,
   "id": "9b2b00d3",
   "metadata": {},
   "outputs": [
    {
     "data": {
      "text/html": [
       "<div>\n",
       "<style scoped>\n",
       "    .dataframe tbody tr th:only-of-type {\n",
       "        vertical-align: middle;\n",
       "    }\n",
       "\n",
       "    .dataframe tbody tr th {\n",
       "        vertical-align: top;\n",
       "    }\n",
       "\n",
       "    .dataframe thead th {\n",
       "        text-align: right;\n",
       "    }\n",
       "</style>\n",
       "<table border=\"1\" class=\"dataframe\">\n",
       "  <thead>\n",
       "    <tr style=\"text-align: right;\">\n",
       "      <th></th>\n",
       "      <th>Наименование</th>\n",
       "      <th>Категория</th>\n",
       "      <th>Количество</th>\n",
       "      <th>Цена</th>\n",
       "      <th>Сумма</th>\n",
       "    </tr>\n",
       "  </thead>\n",
       "  <tbody>\n",
       "    <tr>\n",
       "      <th>0</th>\n",
       "      <td>Товар №10</td>\n",
       "      <td>Категория №5</td>\n",
       "      <td>9</td>\n",
       "      <td>5.08</td>\n",
       "      <td>NaN</td>\n",
       "    </tr>\n",
       "    <tr>\n",
       "      <th>1</th>\n",
       "      <td>Товар №6</td>\n",
       "      <td>Категория №4</td>\n",
       "      <td>2</td>\n",
       "      <td>16.97</td>\n",
       "      <td>NaN</td>\n",
       "    </tr>\n",
       "    <tr>\n",
       "      <th>2</th>\n",
       "      <td>Товар №14</td>\n",
       "      <td>Категория №1</td>\n",
       "      <td>9</td>\n",
       "      <td>21.28</td>\n",
       "      <td>NaN</td>\n",
       "    </tr>\n",
       "    <tr>\n",
       "      <th>3</th>\n",
       "      <td>Товар №9</td>\n",
       "      <td>Категория №4</td>\n",
       "      <td>9</td>\n",
       "      <td>7.31</td>\n",
       "      <td>NaN</td>\n",
       "    </tr>\n",
       "    <tr>\n",
       "      <th>4</th>\n",
       "      <td>Товар №14</td>\n",
       "      <td>Категория №1</td>\n",
       "      <td>7</td>\n",
       "      <td>16.78</td>\n",
       "      <td>NaN</td>\n",
       "    </tr>\n",
       "  </tbody>\n",
       "</table>\n",
       "</div>"
      ],
      "text/plain": [
       "  Наименование     Категория  Количество   Цена  Сумма\n",
       "0    Товар №10  Категория №5           9   5.08    NaN\n",
       "1     Товар №6  Категория №4           2  16.97    NaN\n",
       "2    Товар №14  Категория №1           9  21.28    NaN\n",
       "3     Товар №9  Категория №4           9   7.31    NaN\n",
       "4    Товар №14  Категория №1           7  16.78    NaN"
      ]
     },
     "execution_count": 18,
     "metadata": {},
     "output_type": "execute_result"
    }
   ],
   "source": [
    "# загрузим excel и выведем на экран\n",
    "data_a = pd.read_excel('Вопросы Excel.xlsx', sheet_name='A')\n",
    "\n",
    "# вывод первых 5 строк\n",
    "data_a.head()"
   ]
  },
  {
   "cell_type": "markdown",
   "id": "838b3de4",
   "metadata": {},
   "source": [
    "Теперь можно приступить к выполнению заданий из первого вопроса."
   ]
  },
  {
   "cell_type": "markdown",
   "id": "073b3845",
   "metadata": {},
   "source": [
    "### Задание №1"
   ]
  },
  {
   "cell_type": "markdown",
   "id": "9e2828c1",
   "metadata": {},
   "source": [
    "**а)**\n",
    "\n",
    "Для того, чтобы найти минимальную по сумме продажу, необходимо заполнить столбец суммы:"
   ]
  },
  {
   "cell_type": "code",
   "execution_count": 25,
   "id": "e827d44c",
   "metadata": {},
   "outputs": [
    {
     "data": {
      "text/html": [
       "<div>\n",
       "<style scoped>\n",
       "    .dataframe tbody tr th:only-of-type {\n",
       "        vertical-align: middle;\n",
       "    }\n",
       "\n",
       "    .dataframe tbody tr th {\n",
       "        vertical-align: top;\n",
       "    }\n",
       "\n",
       "    .dataframe thead th {\n",
       "        text-align: right;\n",
       "    }\n",
       "</style>\n",
       "<table border=\"1\" class=\"dataframe\">\n",
       "  <thead>\n",
       "    <tr style=\"text-align: right;\">\n",
       "      <th></th>\n",
       "      <th>Наименование</th>\n",
       "      <th>Категория</th>\n",
       "      <th>Количество</th>\n",
       "      <th>Цена</th>\n",
       "      <th>Сумма</th>\n",
       "    </tr>\n",
       "  </thead>\n",
       "  <tbody>\n",
       "    <tr>\n",
       "      <th>21</th>\n",
       "      <td>Товар №11</td>\n",
       "      <td>Категория №2</td>\n",
       "      <td>2</td>\n",
       "      <td>4.6</td>\n",
       "      <td>9.2</td>\n",
       "    </tr>\n",
       "  </tbody>\n",
       "</table>\n",
       "</div>"
      ],
      "text/plain": [
       "   Наименование     Категория  Количество  Цена  Сумма\n",
       "21    Товар №11  Категория №2           2   4.6    9.2"
      ]
     },
     "execution_count": 25,
     "metadata": {},
     "output_type": "execute_result"
    }
   ],
   "source": [
    "# умножим цену на количество\n",
    "data_a['Сумма'] = data_a['Количество'] * data_a['Цена']\n",
    "\n",
    "# Найдём минимальную строку\n",
    "minimum = data_a[data_a['Сумма'] == data_a['Сумма'].min()]\n",
    "\n",
    "# Выведем на экран полученную строку\n",
    "minimum"
   ]
  },
  {
   "cell_type": "markdown",
   "id": "28ab331e",
   "metadata": {},
   "source": [
    "Из-за того, что в данной системе отчёт строк начинается от \"0\", а строка с названиями колонн не считается за строку, поэтому ответ в данном случае 21, а не 23, как в моих ответах в excel."
   ]
  },
  {
   "cell_type": "markdown",
   "id": "a07c36a7",
   "metadata": {},
   "source": [
    "**Ответ: 21**"
   ]
  },
  {
   "cell_type": "markdown",
   "id": "46ff0deb",
   "metadata": {},
   "source": [
    "**б)**\n",
    "\n",
    "Для того, чтобы найти самую продаваемую категорю по количеству, следует сделать сводную таблицу по категориям и количествам, взяв агрегатную функцию в виде суммы:"
   ]
  },
  {
   "cell_type": "code",
   "execution_count": 39,
   "id": "ea80dc05",
   "metadata": {},
   "outputs": [
    {
     "data": {
      "text/html": [
       "<div>\n",
       "<style scoped>\n",
       "    .dataframe tbody tr th:only-of-type {\n",
       "        vertical-align: middle;\n",
       "    }\n",
       "\n",
       "    .dataframe tbody tr th {\n",
       "        vertical-align: top;\n",
       "    }\n",
       "\n",
       "    .dataframe thead th {\n",
       "        text-align: right;\n",
       "    }\n",
       "</style>\n",
       "<table border=\"1\" class=\"dataframe\">\n",
       "  <thead>\n",
       "    <tr style=\"text-align: right;\">\n",
       "      <th>Категория</th>\n",
       "      <th>Категория №1</th>\n",
       "      <th>Категория №2</th>\n",
       "      <th>Категория №3</th>\n",
       "      <th>Категория №4</th>\n",
       "      <th>Категория №5</th>\n",
       "    </tr>\n",
       "  </thead>\n",
       "  <tbody>\n",
       "    <tr>\n",
       "      <th>Количество</th>\n",
       "      <td>72</td>\n",
       "      <td>32</td>\n",
       "      <td>40</td>\n",
       "      <td>37</td>\n",
       "      <td>53</td>\n",
       "    </tr>\n",
       "  </tbody>\n",
       "</table>\n",
       "</div>"
      ],
      "text/plain": [
       "Категория   Категория №1  Категория №2  Категория №3  Категория №4  \\\n",
       "Количество            72            32            40            37   \n",
       "\n",
       "Категория   Категория №5  \n",
       "Количество            53  "
      ]
     },
     "execution_count": 39,
     "metadata": {},
     "output_type": "execute_result"
    }
   ],
   "source": [
    "# сводная таблица по сумме\n",
    "pivot_sum = pd.pivot_table(data_a, values='Количество', columns='Категория', aggfunc='sum')\n",
    "\n",
    "# вывод максимальной суммы товараё на экран\n",
    "pivot_sum"
   ]
  },
  {
   "cell_type": "markdown",
   "id": "e79c2fee",
   "metadata": {},
   "source": [
    "Очевидно, что самая продаваемая категория - это первая категория."
   ]
  },
  {
   "cell_type": "markdown",
   "id": "a9a8496f",
   "metadata": {},
   "source": [
    "**Ответ: Категория №1**"
   ]
  },
  {
   "cell_type": "markdown",
   "id": "e3c714c6",
   "metadata": {},
   "source": [
    "**в)**\n",
    "\n",
    "Так как один товар может быть разной категории, следует найти и сделать сводную таблицу по категориям, товарам и сумме, используя функцию суммы:"
   ]
  },
  {
   "cell_type": "code",
   "execution_count": 74,
   "id": "e705efa5",
   "metadata": {},
   "outputs": [
    {
     "data": {
      "text/html": [
       "<div>\n",
       "<style scoped>\n",
       "    .dataframe tbody tr th:only-of-type {\n",
       "        vertical-align: middle;\n",
       "    }\n",
       "\n",
       "    .dataframe tbody tr th {\n",
       "        vertical-align: top;\n",
       "    }\n",
       "\n",
       "    .dataframe thead th {\n",
       "        text-align: right;\n",
       "    }\n",
       "</style>\n",
       "<table border=\"1\" class=\"dataframe\">\n",
       "  <thead>\n",
       "    <tr style=\"text-align: right;\">\n",
       "      <th></th>\n",
       "      <th>Сумма</th>\n",
       "    </tr>\n",
       "    <tr>\n",
       "      <th>Наименование</th>\n",
       "      <th></th>\n",
       "    </tr>\n",
       "  </thead>\n",
       "  <tbody>\n",
       "    <tr>\n",
       "      <th>Товар №3</th>\n",
       "      <td>20.56</td>\n",
       "    </tr>\n",
       "  </tbody>\n",
       "</table>\n",
       "</div>"
      ],
      "text/plain": [
       "              Сумма\n",
       "Наименование       \n",
       "Товар №3      20.56"
      ]
     },
     "execution_count": 74,
     "metadata": {},
     "output_type": "execute_result"
    }
   ],
   "source": [
    "# сводная таблица по сумме\n",
    "pivot_sum_product = pd.pivot_table(data_a, values='Сумма', index='Наименование', aggfunc='sum')\n",
    "\n",
    "# вывод самого убыточного товара товара \n",
    "minimum = pivot_sum_product[pivot_sum_product['Сумма'] == pivot_sum_product['Сумма'].min()]\n",
    "minimum"
   ]
  },
  {
   "cell_type": "markdown",
   "id": "2b2688e3",
   "metadata": {},
   "source": [
    "В данном случае, Товар №3 принадлежит только одной категории - категории №1. По этой причине, в ответ можно просто написать номер товара."
   ]
  },
  {
   "cell_type": "markdown",
   "id": "d39b49b4",
   "metadata": {},
   "source": [
    "**Ответ: Товар №3 **"
   ]
  },
  {
   "cell_type": "markdown",
   "id": "7e61fac3",
   "metadata": {},
   "source": [
    "**б)**\n",
    "\n",
    "Для того, чтобы найти самую дешёвую категорю, следует сделать сводную таблицу по цене и категориям, взяв агрегатную функцию в виде среднего:"
   ]
  },
  {
   "cell_type": "code",
   "execution_count": 81,
   "id": "eed2ebee",
   "metadata": {},
   "outputs": [
    {
     "data": {
      "text/html": [
       "<div>\n",
       "<style scoped>\n",
       "    .dataframe tbody tr th:only-of-type {\n",
       "        vertical-align: middle;\n",
       "    }\n",
       "\n",
       "    .dataframe tbody tr th {\n",
       "        vertical-align: top;\n",
       "    }\n",
       "\n",
       "    .dataframe thead th {\n",
       "        text-align: right;\n",
       "    }\n",
       "</style>\n",
       "<table border=\"1\" class=\"dataframe\">\n",
       "  <thead>\n",
       "    <tr style=\"text-align: right;\">\n",
       "      <th>Категория</th>\n",
       "      <th>Категория №1</th>\n",
       "      <th>Категория №2</th>\n",
       "      <th>Категория №3</th>\n",
       "      <th>Категория №4</th>\n",
       "      <th>Категория №5</th>\n",
       "    </tr>\n",
       "  </thead>\n",
       "  <tbody>\n",
       "    <tr>\n",
       "      <th>Цена</th>\n",
       "      <td>19.503</td>\n",
       "      <td>21.376</td>\n",
       "      <td>30.03</td>\n",
       "      <td>24.806</td>\n",
       "      <td>18.657778</td>\n",
       "    </tr>\n",
       "  </tbody>\n",
       "</table>\n",
       "</div>"
      ],
      "text/plain": [
       "Категория  Категория №1  Категория №2  Категория №3  Категория №4  \\\n",
       "Цена             19.503        21.376         30.03        24.806   \n",
       "\n",
       "Категория  Категория №5  \n",
       "Цена          18.657778  "
      ]
     },
     "execution_count": 81,
     "metadata": {},
     "output_type": "execute_result"
    }
   ],
   "source": [
    "# сводная таблица по сумме\n",
    "pivot_sum = pd.pivot_table(data_a, values='Цена', columns='Категория', aggfunc='mean')\n",
    "\n",
    "# вывод cредней суммы по категориям\n",
    "pivot_sum"
   ]
  },
  {
   "cell_type": "markdown",
   "id": "ca358ef3",
   "metadata": {},
   "source": [
    "Очевидно, что самая дешёвая в среднем категория - это пятая категория."
   ]
  },
  {
   "cell_type": "markdown",
   "id": "e0903e20",
   "metadata": {},
   "source": [
    "**Ответ: Категория №5**"
   ]
  },
  {
   "cell_type": "markdown",
   "id": "58c2642a",
   "metadata": {},
   "source": [
    "### Задание №2"
   ]
  },
  {
   "cell_type": "markdown",
   "id": "de3eceac",
   "metadata": {},
   "source": [
    "Начнём выполнение второго задания. Но перед этим, нужно загрузим данные:"
   ]
  },
  {
   "cell_type": "code",
   "execution_count": 86,
   "id": "b7c56fdd",
   "metadata": {},
   "outputs": [
    {
     "data": {
      "text/html": [
       "<div>\n",
       "<style scoped>\n",
       "    .dataframe tbody tr th:only-of-type {\n",
       "        vertical-align: middle;\n",
       "    }\n",
       "\n",
       "    .dataframe tbody tr th {\n",
       "        vertical-align: top;\n",
       "    }\n",
       "\n",
       "    .dataframe thead th {\n",
       "        text-align: right;\n",
       "    }\n",
       "</style>\n",
       "<table border=\"1\" class=\"dataframe\">\n",
       "  <thead>\n",
       "    <tr style=\"text-align: right;\">\n",
       "      <th></th>\n",
       "      <th>Наименование</th>\n",
       "      <th>Цена</th>\n",
       "      <th>Наименование.1</th>\n",
       "      <th>Цена.1</th>\n",
       "    </tr>\n",
       "  </thead>\n",
       "  <tbody>\n",
       "    <tr>\n",
       "      <th>0</th>\n",
       "      <td>Товар №001</td>\n",
       "      <td>8.77</td>\n",
       "      <td>Товар №032</td>\n",
       "      <td>NaN</td>\n",
       "    </tr>\n",
       "    <tr>\n",
       "      <th>1</th>\n",
       "      <td>Товар №002</td>\n",
       "      <td>8.70</td>\n",
       "      <td>Товар №095</td>\n",
       "      <td>NaN</td>\n",
       "    </tr>\n",
       "    <tr>\n",
       "      <th>2</th>\n",
       "      <td>Товар №003</td>\n",
       "      <td>8.67</td>\n",
       "      <td>Товар №012</td>\n",
       "      <td>NaN</td>\n",
       "    </tr>\n",
       "    <tr>\n",
       "      <th>3</th>\n",
       "      <td>Товар №004</td>\n",
       "      <td>4.22</td>\n",
       "      <td>Товар №062</td>\n",
       "      <td>NaN</td>\n",
       "    </tr>\n",
       "    <tr>\n",
       "      <th>4</th>\n",
       "      <td>Товар №005</td>\n",
       "      <td>9.41</td>\n",
       "      <td>Товар №011</td>\n",
       "      <td>NaN</td>\n",
       "    </tr>\n",
       "  </tbody>\n",
       "</table>\n",
       "</div>"
      ],
      "text/plain": [
       "  Наименование  Цена Наименование.1  Цена.1\n",
       "0   Товар №001  8.77     Товар №032     NaN\n",
       "1   Товар №002  8.70     Товар №095     NaN\n",
       "2   Товар №003  8.67     Товар №012     NaN\n",
       "3   Товар №004  4.22     Товар №062     NaN\n",
       "4   Товар №005  9.41     Товар №011     NaN"
      ]
     },
     "execution_count": 86,
     "metadata": {},
     "output_type": "execute_result"
    }
   ],
   "source": [
    "# загрузим excel и выведем на экран\n",
    "data_b = pd.read_excel('Вопросы Excel.xlsx', sheet_name='B')\n",
    "\n",
    "# вывод первых 5 строк\n",
    "data_b.head()"
   ]
  },
  {
   "cell_type": "markdown",
   "id": "728cb9c1",
   "metadata": {},
   "source": [
    "Как можно наблюдать, при загрузке одинаковые названия колонн система нумерует, чтобы не было путанецы. Для удобства, разобьём их в две разные таблички и переименуем проиндексированные колонки:"
   ]
  },
  {
   "cell_type": "code",
   "execution_count": 102,
   "id": "f800ff36",
   "metadata": {},
   "outputs": [],
   "source": [
    "# записали в разные переменные\n",
    "data_b_first = data_b[['Наименование', 'Цена']].dropna()\n",
    "data_b_second = data_b[['Наименование.1']]\n",
    "\n",
    "# переименовали прономерованные колонны\n",
    "data_b_second.rename(columns = {'Наименование.1':'Наименование'}, inplace = True )"
   ]
  },
  {
   "cell_type": "markdown",
   "id": "9d89a4e6",
   "metadata": {},
   "source": [
    "Теперь можно объеденить таблицы - как ВПР в экселе:"
   ]
  },
  {
   "cell_type": "code",
   "execution_count": 103,
   "id": "16a2b385",
   "metadata": {},
   "outputs": [
    {
     "data": {
      "text/html": [
       "<div>\n",
       "<style scoped>\n",
       "    .dataframe tbody tr th:only-of-type {\n",
       "        vertical-align: middle;\n",
       "    }\n",
       "\n",
       "    .dataframe tbody tr th {\n",
       "        vertical-align: top;\n",
       "    }\n",
       "\n",
       "    .dataframe thead th {\n",
       "        text-align: right;\n",
       "    }\n",
       "</style>\n",
       "<table border=\"1\" class=\"dataframe\">\n",
       "  <thead>\n",
       "    <tr style=\"text-align: right;\">\n",
       "      <th></th>\n",
       "      <th>Наименование</th>\n",
       "      <th>Цена</th>\n",
       "    </tr>\n",
       "  </thead>\n",
       "  <tbody>\n",
       "    <tr>\n",
       "      <th>0</th>\n",
       "      <td>Товар №032</td>\n",
       "      <td>9.64</td>\n",
       "    </tr>\n",
       "    <tr>\n",
       "      <th>1</th>\n",
       "      <td>Товар №095</td>\n",
       "      <td>9.60</td>\n",
       "    </tr>\n",
       "    <tr>\n",
       "      <th>2</th>\n",
       "      <td>Товар №012</td>\n",
       "      <td>7.92</td>\n",
       "    </tr>\n",
       "    <tr>\n",
       "      <th>3</th>\n",
       "      <td>Товар №062</td>\n",
       "      <td>9.45</td>\n",
       "    </tr>\n",
       "    <tr>\n",
       "      <th>4</th>\n",
       "      <td>Товар №011</td>\n",
       "      <td>9.18</td>\n",
       "    </tr>\n",
       "    <tr>\n",
       "      <th>...</th>\n",
       "      <td>...</td>\n",
       "      <td>...</td>\n",
       "    </tr>\n",
       "    <tr>\n",
       "      <th>1185</th>\n",
       "      <td>Товар №080</td>\n",
       "      <td>7.76</td>\n",
       "    </tr>\n",
       "    <tr>\n",
       "      <th>1186</th>\n",
       "      <td>Товар №035</td>\n",
       "      <td>4.40</td>\n",
       "    </tr>\n",
       "    <tr>\n",
       "      <th>1187</th>\n",
       "      <td>Товар №022</td>\n",
       "      <td>7.12</td>\n",
       "    </tr>\n",
       "    <tr>\n",
       "      <th>1188</th>\n",
       "      <td>Товар №088</td>\n",
       "      <td>9.77</td>\n",
       "    </tr>\n",
       "    <tr>\n",
       "      <th>1189</th>\n",
       "      <td>Товар №056</td>\n",
       "      <td>7.64</td>\n",
       "    </tr>\n",
       "  </tbody>\n",
       "</table>\n",
       "<p>1190 rows × 2 columns</p>\n",
       "</div>"
      ],
      "text/plain": [
       "     Наименование  Цена\n",
       "0      Товар №032  9.64\n",
       "1      Товар №095  9.60\n",
       "2      Товар №012  7.92\n",
       "3      Товар №062  9.45\n",
       "4      Товар №011  9.18\n",
       "...           ...   ...\n",
       "1185   Товар №080  7.76\n",
       "1186   Товар №035  4.40\n",
       "1187   Товар №022  7.12\n",
       "1188   Товар №088  9.77\n",
       "1189   Товар №056  7.64\n",
       "\n",
       "[1190 rows x 2 columns]"
      ]
     },
     "execution_count": 103,
     "metadata": {},
     "output_type": "execute_result"
    }
   ],
   "source": [
    "# объеденение двух таблиц\n",
    "data_b_second = pd.merge(data_b_second,\n",
    "                         data_b_first,\n",
    "                         on ='Наименование',\n",
    "                         how ='left')\n",
    "# вывод на экран\n",
    "data_b_second"
   ]
  },
  {
   "cell_type": "markdown",
   "id": "a3434921",
   "metadata": {},
   "source": [
    "Сравним две таблички:"
   ]
  },
  {
   "cell_type": "code",
   "execution_count": 106,
   "id": "18b173c6",
   "metadata": {},
   "outputs": [
    {
     "data": {
      "text/html": [
       "<div>\n",
       "<style scoped>\n",
       "    .dataframe tbody tr th:only-of-type {\n",
       "        vertical-align: middle;\n",
       "    }\n",
       "\n",
       "    .dataframe tbody tr th {\n",
       "        vertical-align: top;\n",
       "    }\n",
       "\n",
       "    .dataframe thead th {\n",
       "        text-align: right;\n",
       "    }\n",
       "</style>\n",
       "<table border=\"1\" class=\"dataframe\">\n",
       "  <thead>\n",
       "    <tr style=\"text-align: right;\">\n",
       "      <th></th>\n",
       "      <th>Наименование</th>\n",
       "      <th>Цена</th>\n",
       "    </tr>\n",
       "  </thead>\n",
       "  <tbody>\n",
       "    <tr>\n",
       "      <th>0</th>\n",
       "      <td>Товар №001</td>\n",
       "      <td>8.77</td>\n",
       "    </tr>\n",
       "    <tr>\n",
       "      <th>1</th>\n",
       "      <td>Товар №002</td>\n",
       "      <td>8.70</td>\n",
       "    </tr>\n",
       "    <tr>\n",
       "      <th>2</th>\n",
       "      <td>Товар №003</td>\n",
       "      <td>8.67</td>\n",
       "    </tr>\n",
       "    <tr>\n",
       "      <th>3</th>\n",
       "      <td>Товар №004</td>\n",
       "      <td>4.22</td>\n",
       "    </tr>\n",
       "    <tr>\n",
       "      <th>4</th>\n",
       "      <td>Товар №005</td>\n",
       "      <td>9.41</td>\n",
       "    </tr>\n",
       "    <tr>\n",
       "      <th>5</th>\n",
       "      <td>Товар №006</td>\n",
       "      <td>10.00</td>\n",
       "    </tr>\n",
       "    <tr>\n",
       "      <th>6</th>\n",
       "      <td>Товар №007</td>\n",
       "      <td>7.41</td>\n",
       "    </tr>\n",
       "    <tr>\n",
       "      <th>7</th>\n",
       "      <td>Товар №008</td>\n",
       "      <td>8.79</td>\n",
       "    </tr>\n",
       "    <tr>\n",
       "      <th>8</th>\n",
       "      <td>Товар №009</td>\n",
       "      <td>9.98</td>\n",
       "    </tr>\n",
       "    <tr>\n",
       "      <th>9</th>\n",
       "      <td>Товар №010</td>\n",
       "      <td>3.89</td>\n",
       "    </tr>\n",
       "    <tr>\n",
       "      <th>10</th>\n",
       "      <td>Товар №011</td>\n",
       "      <td>9.18</td>\n",
       "    </tr>\n",
       "    <tr>\n",
       "      <th>11</th>\n",
       "      <td>Товар №012</td>\n",
       "      <td>7.92</td>\n",
       "    </tr>\n",
       "    <tr>\n",
       "      <th>12</th>\n",
       "      <td>Товар №013</td>\n",
       "      <td>9.74</td>\n",
       "    </tr>\n",
       "    <tr>\n",
       "      <th>13</th>\n",
       "      <td>Товар №014</td>\n",
       "      <td>7.26</td>\n",
       "    </tr>\n",
       "    <tr>\n",
       "      <th>14</th>\n",
       "      <td>Товар №015</td>\n",
       "      <td>8.50</td>\n",
       "    </tr>\n",
       "  </tbody>\n",
       "</table>\n",
       "</div>"
      ],
      "text/plain": [
       "   Наименование   Цена\n",
       "0    Товар №001   8.77\n",
       "1    Товар №002   8.70\n",
       "2    Товар №003   8.67\n",
       "3    Товар №004   4.22\n",
       "4    Товар №005   9.41\n",
       "5    Товар №006  10.00\n",
       "6    Товар №007   7.41\n",
       "7    Товар №008   8.79\n",
       "8    Товар №009   9.98\n",
       "9    Товар №010   3.89\n",
       "10   Товар №011   9.18\n",
       "11   Товар №012   7.92\n",
       "12   Товар №013   9.74\n",
       "13   Товар №014   7.26\n",
       "14   Товар №015   8.50"
      ]
     },
     "execution_count": 106,
     "metadata": {},
     "output_type": "execute_result"
    }
   ],
   "source": [
    "data_b_first.head(15)"
   ]
  },
  {
   "cell_type": "markdown",
   "id": "fcdecf76",
   "metadata": {},
   "source": [
    "**Как можно заметить, объединение прошло успешно.**"
   ]
  },
  {
   "cell_type": "code",
   "execution_count": null,
   "id": "577c6787",
   "metadata": {},
   "outputs": [],
   "source": []
  }
 ],
 "metadata": {
  "kernelspec": {
   "display_name": "Python 3 (ipykernel)",
   "language": "python",
   "name": "python3"
  },
  "language_info": {
   "codemirror_mode": {
    "name": "ipython",
    "version": 3
   },
   "file_extension": ".py",
   "mimetype": "text/x-python",
   "name": "python",
   "nbconvert_exporter": "python",
   "pygments_lexer": "ipython3",
   "version": "3.9.7"
  }
 },
 "nbformat": 4,
 "nbformat_minor": 5
}
